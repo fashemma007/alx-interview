{
 "cells": [
  {
   "cell_type": "code",
   "execution_count": 105,
   "metadata": {},
   "outputs": [],
   "source": [
    "# boxes = [[1,4,0], [2], [3], [4], []]\n",
    "boxes = [[1, 4], [2], [0, 4, 1], [3], [], [4, 1], [5, 6]]\n",
    "# boxes = [[1, 4, 6], [2], [0, 4, 1], [5, 6, 2], [3], [4, 1], [6]]\n",
    "# print(canUnlockAll(boxes))"
   ]
  },
  {
   "cell_type": "code",
   "execution_count": 106,
   "metadata": {},
   "outputs": [],
   "source": [
    "# get the total number of boxes - len(list) \n",
    "# box 0 is at index 0, box 1 is at index 1 ...\n",
    "# each box is a list, making the entire boxes a list of lists\n",
    "# boxes[0] is unlocked by default\n",
    "# ."
   ]
  },
  {
   "cell_type": "code",
   "execution_count": 121,
   "metadata": {},
   "outputs": [],
   "source": [
    "def canUnlockAll(boxes):\n",
    "    \"\"\"Determines if all boxes can be unlocked\"\"\"\n",
    "    unlocked = [0]  # store all boxes that's been unlocked\n",
    "    # loop and get the index and content of each box i.e inner list\n",
    "    for box_index, box in enumerate(boxes):\n",
    "        print(f\"Keys in box {box_index} can unlock boxes => {box}\")\n",
    "        if not box: # if box is empty skip it\n",
    "            continue\n",
    "        for key in box:\n",
    "            # check if the key falls within box range\n",
    "            key_valid = (key < len(boxes))\n",
    "            # check if the key is not already in the list\n",
    "            key_missing = (key not in unlocked)\n",
    "            # check if the key isnt a duplicate to open current box\n",
    "            key_not_for_current_box = (key != box_index)\n",
    "            all_checks = key_valid and key_missing and key_not_for_current_box\n",
    "            # if all conditions are met\n",
    "            if all_checks:\n",
    "                # add the key to the unlocked box\n",
    "                unlocked.append(key)\n",
    "                # print(unlocked)\n",
    "    # after all iterations, check if all boxes were unlocked\n",
    "    return True if len(unlocked) == len(boxes) else False\n",
    "    # if len(unlocked) == len(boxes):\n",
    "    #     return True\n"
   ]
  },
  {
   "cell_type": "code",
   "execution_count": 122,
   "metadata": {},
   "outputs": [
    {
     "name": "stdout",
     "output_type": "stream",
     "text": [
      "Keys in box 0 can unlock boxes => [1, 4]\n",
      "Keys in box 1 can unlock boxes => [2]\n",
      "Keys in box 2 can unlock boxes => [0, 4, 1]\n",
      "Keys in box 3 can unlock boxes => [3]\n",
      "Keys in box 4 can unlock boxes => []\n",
      "Keys in box 5 can unlock boxes => [4, 1]\n",
      "Keys in box 6 can unlock boxes => [5, 6]\n"
     ]
    },
    {
     "data": {
      "text/plain": [
       "False"
      ]
     },
     "execution_count": 122,
     "metadata": {},
     "output_type": "execute_result"
    }
   ],
   "source": [
    "canUnlockAll(boxes)"
   ]
  },
  {
   "cell_type": "code",
   "execution_count": 113,
   "metadata": {},
   "outputs": [],
   "source": [
    "box = []"
   ]
  },
  {
   "cell_type": "code",
   "execution_count": 114,
   "metadata": {},
   "outputs": [
    {
     "name": "stdout",
     "output_type": "stream",
     "text": [
      "bye\n"
     ]
    }
   ],
   "source": [
    "if box:\n",
    "    print(\"Hello\")\n",
    "else:\n",
    "    # comment: \n",
    "    print(\"bye\")"
   ]
  },
  {
   "cell_type": "code",
   "execution_count": null,
   "metadata": {},
   "outputs": [],
   "source": []
  }
 ],
 "metadata": {
  "kernelspec": {
   "display_name": "Python 3",
   "language": "python",
   "name": "python3"
  },
  "language_info": {
   "codemirror_mode": {
    "name": "ipython",
    "version": 3
   },
   "file_extension": ".py",
   "mimetype": "text/x-python",
   "name": "python",
   "nbconvert_exporter": "python",
   "pygments_lexer": "ipython3",
   "version": "3.10.7"
  },
  "orig_nbformat": 4
 },
 "nbformat": 4,
 "nbformat_minor": 2
}
