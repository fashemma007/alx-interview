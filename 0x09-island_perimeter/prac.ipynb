{
 "cells": [
  {
   "cell_type": "code",
   "execution_count": 48,
   "metadata": {},
   "outputs": [],
   "source": [
    "def island_perimeter(grid):\n",
    "    rows = len(grid)\n",
    "    columns = len(grid[0]) if rows else 0\n",
    "    adda = 0\n",
    "    length = []\n",
    "    breadth = []\n",
    "    perimeter = {\"length\": 0, \"breadth\": 0}\n",
    "    for row_idx, row in enumerate(grid):\n",
    "        # print(row)\n",
    "        for col_idx, col in enumerate(row):\n",
    "            # print(col)\n",
    "            if col == 1:\n",
    "                length.append(row_idx)\n",
    "                breadth.append(col_idx)\n",
    "                adda += 1\n",
    "                perimeter[\"breadth\"] = len(breadth)\n",
    "                perimeter[\"length\"] = len(length)\n",
    "                if row[col_idx+1] == 0 or grid[row_idx+1][row_idx] == 0:\n",
    "                    adda += 1\n",
    "    return perimeter[\"breadth\"] + perimeter[\"length\"]"
   ]
  },
  {
   "cell_type": "code",
   "execution_count": 75,
   "metadata": {},
   "outputs": [
    {
     "name": "stdout",
     "output_type": "stream",
     "text": [
      "12\n"
     ]
    }
   ],
   "source": [
    "grid = [\n",
    "        [0, 0, 0, 0, 0, 0],\n",
    "        [0, 1, 0, 0, 0, 0],\n",
    "        [0, 1, 0, 0, 0, 0],\n",
    "        [0, 1, 1, 1, 0, 0],\n",
    "        [0, 0, 0, 0, 0, 0]\n",
    "    ]\n",
    "print(island_perimeter(grid))"
   ]
  },
  {
   "cell_type": "code",
   "execution_count": 74,
   "metadata": {},
   "outputs": [],
   "source": [
    "def island_perimeter(grid):\n",
    "    perimeter = 0\n",
    "    rows = len(grid)\n",
    "    columns = len(grid[0]) if rows else 0\n",
    "    for i in range(rows):\n",
    "        for j in range(columns):\n",
    "            # print(f\"J = {j}\")\n",
    "            # treat each cell as a square; perimeter of cell == 4l\n",
    "            perimeter += 4 * grid[i][j]\n",
    "            # since it's completely surrounded by water\n",
    "            # 1st row must be zeros\n",
    "            if i > 0 and i < rows - 1: # for oda rows\n",
    "                # print(grid[i][j], grid[i-1][j])\n",
    "                # deduct breadth if it borders a land horizontally\n",
    "                perimeter -= grid[i][j] * grid[i-1][j]\n",
    "                perimeter -= grid[i][j] * grid[i+1][j]\n",
    "            # if i < rows - 1: perimeter -= grid[i][j] * grid[i+1][j]\n",
    "            if (j > 0) and (j < columns - 1):\n",
    "                # deduct length if it borders a land vertically\n",
    "                perimeter -= grid[i][j] * grid[i][j-1]\n",
    "                perimeter -= grid[i][j] * grid[i][j+1]\n",
    "            # if j < columns - 1: perimeter -= grid[i][j] * grid[i][j+1]\n",
    "    return perimeter"
   ]
  },
  {
   "cell_type": "code",
   "execution_count": null,
   "metadata": {},
   "outputs": [],
   "source": []
  }
 ],
 "metadata": {
  "kernelspec": {
   "display_name": "Python 3",
   "language": "python",
   "name": "python3"
  },
  "language_info": {
   "codemirror_mode": {
    "name": "ipython",
    "version": 3
   },
   "file_extension": ".py",
   "mimetype": "text/x-python",
   "name": "python",
   "nbconvert_exporter": "python",
   "pygments_lexer": "ipython3",
   "version": "3.11.4"
  },
  "orig_nbformat": 4
 },
 "nbformat": 4,
 "nbformat_minor": 2
}
