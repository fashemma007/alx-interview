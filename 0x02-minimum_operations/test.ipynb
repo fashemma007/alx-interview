{
 "cells": [
  {
   "cell_type": "code",
   "execution_count": 14,
   "metadata": {},
   "outputs": [],
   "source": [
    "def copy_func(copy):\n",
    "    copy += 1\n",
    "    return copy\n",
    "\n",
    "def paste_func(paste):\n",
    "    paste += 1\n",
    "    return paste\n"
   ]
  },
  {
   "cell_type": "code",
   "execution_count": 34,
   "metadata": {},
   "outputs": [],
   "source": [
    "def minOperations(n):\n",
    "    operations = 0\n",
    "    letter = 1\n",
    "    if n <= 1:\n",
    "        return 0\n",
    "    # for each operation, increase operations by 1\n",
    "    while letter < n:  # as long as letter is less\n",
    "        if letter > n:\n",
    "            return 0\n",
    "        comp = letter % operations\n",
    "        print(comp)\n",
    "        if (comp == 0) and (comp + letter != n):\n",
    "            # and (letter + operations not > n)):\n",
    "            # copy\n",
    "            operations += 1\n",
    "            # paste\n",
    "            operations += 1\n",
    "    return operations\n",
    "    "
   ]
  },
  {
   "cell_type": "code",
   "execution_count": 26,
   "metadata": {},
   "outputs": [],
   "source": [
    "def minOperations(n):\n",
    "    \"\"\"Returns an integer\"\"\"\n",
    "    if n <= 1:\n",
    "        return 0\n",
    "    dp = [0] * (n + 1)\n",
    "    print(dp)\n",
    "    for i in range(2, n + 1):\n",
    "        dp[i] = i\n",
    "        print(dp)\n",
    "        for j in range(i - 1, 1, -1):\n",
    "            if i % j == 0:\n",
    "                dp[i] = dp[j] + (i // j)\n",
    "                break\n",
    "    return dp[n]"
   ]
  },
  {
   "cell_type": "code",
   "execution_count": 28,
   "metadata": {},
   "outputs": [],
   "source": []
  },
  {
   "cell_type": "code",
   "execution_count": 35,
   "metadata": {},
   "outputs": [
    {
     "ename": "ZeroDivisionError",
     "evalue": "integer division or modulo by zero",
     "output_type": "error",
     "traceback": [
      "\u001b[0;31m---------------------------------------------------------------------------\u001b[0m",
      "\u001b[0;31mZeroDivisionError\u001b[0m                         Traceback (most recent call last)",
      "Cell \u001b[0;32mIn[35], line 1\u001b[0m\n\u001b[0;32m----> 1\u001b[0m minOperations(\u001b[39m2\u001b[39;49m)\n",
      "Cell \u001b[0;32mIn[34], line 10\u001b[0m, in \u001b[0;36mminOperations\u001b[0;34m(n)\u001b[0m\n\u001b[1;32m      8\u001b[0m \u001b[39mif\u001b[39;00m letter \u001b[39m>\u001b[39m n:\n\u001b[1;32m      9\u001b[0m     \u001b[39mreturn\u001b[39;00m \u001b[39m0\u001b[39m\n\u001b[0;32m---> 10\u001b[0m comp \u001b[39m=\u001b[39m letter \u001b[39m%\u001b[39;49m operations\n\u001b[1;32m     11\u001b[0m \u001b[39mprint\u001b[39m(comp)\n\u001b[1;32m     12\u001b[0m \u001b[39mif\u001b[39;00m (comp \u001b[39m==\u001b[39m \u001b[39m0\u001b[39m) \u001b[39mand\u001b[39;00m (comp \u001b[39m+\u001b[39m letter \u001b[39m!=\u001b[39m n):\n\u001b[1;32m     13\u001b[0m     \u001b[39m# and (letter + operations not > n)):\u001b[39;00m\n\u001b[1;32m     14\u001b[0m     \u001b[39m# copy\u001b[39;00m\n",
      "\u001b[0;31mZeroDivisionError\u001b[0m: integer division or modulo by zero"
     ]
    }
   ],
   "source": [
    "minOperations(2)"
   ]
  },
  {
   "cell_type": "code",
   "execution_count": null,
   "metadata": {},
   "outputs": [],
   "source": []
  }
 ],
 "metadata": {
  "kernelspec": {
   "display_name": "Python 3",
   "language": "python",
   "name": "python3"
  },
  "language_info": {
   "codemirror_mode": {
    "name": "ipython",
    "version": 3
   },
   "file_extension": ".py",
   "mimetype": "text/x-python",
   "name": "python",
   "nbconvert_exporter": "python",
   "pygments_lexer": "ipython3",
   "version": "3.10.7"
  },
  "orig_nbformat": 4
 },
 "nbformat": 4,
 "nbformat_minor": 2
}
