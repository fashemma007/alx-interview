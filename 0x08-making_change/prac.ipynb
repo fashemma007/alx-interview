{
 "cells": [
  {
   "cell_type": "code",
   "execution_count": null,
   "metadata": {},
   "outputs": [],
   "source": [
    "def makeChange(coins, total):\n",
    "    \"\"\"Determines the fewest number of coins needed to meet a given\n",
    "    amount total when given a pile of coins of different values.\n",
    "    \"\"\"\n",
    "    if total <= 0:  # precaution\n",
    "        return 0\n",
    "    rem = total  # keep track of remainder\n",
    "    coins_count = 0\n",
    "    coin_idx = 0\n",
    "    sorted_coins = sorted(coins, reverse=True)  # take coins in largest order\n",
    "    n = len(coins)\n",
    "    while rem > 0:  # ensure selected coins add up to total\n",
    "        if coin_idx >= n:\n",
    "            return -1\n",
    "        if rem - sorted_coins[coin_idx] >= 0:\n",
    "            rem -= sorted_coins[coin_idx]\n",
    "            coins_count += 1\n",
    "        else:\n",
    "            coin_idx += 1\n",
    "    return coins_count\n"
   ]
  },
  {
   "cell_type": "code",
   "execution_count": 43,
   "metadata": {},
   "outputs": [],
   "source": [
    "def makeChange(coins, total):\n",
    "    remainder = total\n",
    "    num_of_coins = len(coins)\n",
    "    sorted_coins = coins[:]\n",
    "    sorted_coins.sort(reverse=True)\n",
    "    count = 0\n",
    "    # print(sorted_coins)\n",
    "    if total <= 0:\n",
    "        return 0\n",
    "    idx_track = 0\n",
    "    while (remainder > 0):\n",
    "        print(idx_track)\n",
    "        try:\n",
    "            if remainder - sorted_coins[idx_track] >= 0:\n",
    "                remainder -= sorted_coins[idx_track]\n",
    "                count += 1\n",
    "            else:\n",
    "                idx_track += 1\n",
    "        except IndexError:\n",
    "            return -1\n",
    "    return count"
   ]
  },
  {
   "cell_type": "code",
   "execution_count": 57,
   "metadata": {},
   "outputs": [
    {
     "data": {
      "text/plain": [
       "5"
      ]
     },
     "execution_count": 57,
     "metadata": {},
     "output_type": "execute_result"
    }
   ],
   "source": [
    "dev = 7\n",
    "var = 1278653 - ((1278653//dev) *dev)\n",
    "var\n",
    "# print(makeChange([2, 3, 6, 9], 1278652))"
   ]
  },
  {
   "cell_type": "code",
   "execution_count": 45,
   "metadata": {},
   "outputs": [
    {
     "name": "stdout",
     "output_type": "stream",
     "text": [
      "0\n",
      "0\n",
      "1\n",
      "1\n",
      "2\n",
      "2\n",
      "3\n",
      "4\n",
      "4\n",
      "4\n",
      "5\n"
     ]
    },
    {
     "data": {
      "text/plain": [
       "-1"
      ]
     },
     "execution_count": 45,
     "metadata": {},
     "output_type": "execute_result"
    }
   ],
   "source": [
    "makeChange([1256, 54, 48, 16, 102], 1453)\n"
   ]
  },
  {
   "cell_type": "code",
   "execution_count": 17,
   "metadata": {},
   "outputs": [],
   "source": [
    "\n",
    "b"
   ]
  },
  {
   "cell_type": "code",
   "execution_count": null,
   "metadata": {},
   "outputs": [],
   "source": []
  }
 ],
 "metadata": {
  "kernelspec": {
   "display_name": "Python 3",
   "language": "python",
   "name": "python3"
  },
  "language_info": {
   "codemirror_mode": {
    "name": "ipython",
    "version": 3
   },
   "file_extension": ".py",
   "mimetype": "text/x-python",
   "name": "python",
   "nbconvert_exporter": "python",
   "pygments_lexer": "ipython3",
   "version": "3.11.3"
  },
  "orig_nbformat": 4
 },
 "nbformat": 4,
 "nbformat_minor": 2
}
