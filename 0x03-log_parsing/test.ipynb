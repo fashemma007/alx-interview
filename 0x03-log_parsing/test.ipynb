{
 "cells": [
  {
   "cell_type": "code",
   "execution_count": 2,
   "metadata": {},
   "outputs": [],
   "source": [
    "import re"
   ]
  },
  {
   "cell_type": "code",
   "execution_count": 33,
   "metadata": {},
   "outputs": [
    {
     "name": "stdout",
     "output_type": "stream",
     "text": [
      "2.303.6.125 - [2023-05-11 18:38:23.272919] \"GET /projects/260 HTTP/1.1\" 500 477\n",
      "{'code': '500', 'size': '477'}\n"
     ]
    }
   ],
   "source": [
    "test_string = '2.303.6.125 - [2023-05-11 18:38:23.272919] \"GET /projects/260 HTTP/1.1\" 500 477'\n",
    "\n",
    "pattern = '^(([0-9]{1,3}.){4,4})...+.([0-9]{4,4}).([0-9]{2,2}).([0-9]{2,2})...\\\n",
    "+\\\"GET..[a-z]+.[0-9]+.HTTP/1.1\\\".[0-9]+.[0-9]+'\n",
    "# pattern = '^([0-9]{1,3}.){4,4}\\- \\[([0-9]{4,4})\\-([0-9]{2,2})\\-([0-9]{2,2})\\s\\\n",
    "# ([0-9]{2,2}):([0-9]{2,2}):([0-9]{2,2})\\.([0-9]{2,6})\\] \\\"GET \\/[a-z]+\\/\\d+\\s\\\n",
    "# HTTP\\/\\d\\.\\d\\\"\\s([0-9]{3,3})\\s\\d+'\n",
    "split_pattern = \"HTTP\\/\\d\\.\\d\\\"\"  # re.split()\n",
    "res = re.search(pattern, test_string).group()\n",
    "stat = re.split(split_pattern, res)[-1].split()\n",
    "code_size = {'code': stat[0], 'size': stat[1]}\n",
    "result = re.match(pattern, test_string)\n",
    "if result:\n",
    "    print(res)\n",
    "    print(code_size)\n",
    "else:\n",
    "    print(\"Search unsuccessful.\")\t"
   ]
  },
  {
   "cell_type": "code",
   "execution_count": 13,
   "metadata": {},
   "outputs": [
    {
     "data": {
      "text/plain": [
       "'2.303.6.125 - [2023-05-11 18:38:23.272919] \"GET /projects/260 HTTP/1.1\" 500 477'"
      ]
     },
     "execution_count": 13,
     "metadata": {},
     "output_type": "execute_result"
    }
   ],
   "source": [
    "re.search(pattern, test_string).group()"
   ]
  },
  {
   "cell_type": "code",
   "execution_count": 26,
   "metadata": {},
   "outputs": [
    {
     "name": "stdout",
     "output_type": "stream",
     "text": [
      "Search unsuccessful.\n"
     ]
    }
   ],
   "source": [
    "import re\n",
    "\n",
    "pattern = '^a...\\D$'\n",
    "test_string = 'abyss'\n",
    "result = re.match(pattern, test_string)\n",
    "\n",
    "if result:\n",
    "  print(\"Search successful.\")\n",
    "else:\n",
    "  print(\"Search unsuccessful.\")\t\n"
   ]
  },
  {
   "cell_type": "code",
   "execution_count": null,
   "metadata": {},
   "outputs": [],
   "source": []
  }
 ],
 "metadata": {
  "kernelspec": {
   "display_name": "Python 3",
   "language": "python",
   "name": "python3"
  },
  "language_info": {
   "codemirror_mode": {
    "name": "ipython",
    "version": 3
   },
   "file_extension": ".py",
   "mimetype": "text/x-python",
   "name": "python",
   "nbconvert_exporter": "python",
   "pygments_lexer": "ipython3",
   "version": "3.11.3"
  },
  "orig_nbformat": 4
 },
 "nbformat": 4,
 "nbformat_minor": 2
}
