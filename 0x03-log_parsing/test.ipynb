{
 "cells": [
  {
   "cell_type": "code",
   "execution_count": 2,
   "metadata": {},
   "outputs": [],
   "source": [
    "import re"
   ]
  },
  {
   "cell_type": "code",
   "execution_count": 33,
   "metadata": {},
   "outputs": [
    {
     "name": "stdout",
     "output_type": "stream",
     "text": [
      "2.303.6.125 - [2023-05-11 18:38:23.272919] \"GET /projects/260 HTTP/1.1\" 500 477\n",
      "{'code': '500', 'size': '477'}\n"
     ]
    }
   ],
   "source": [
    "test_string = '2.303.6.125 - [2023-05-11 18:38:23.272919] \"GET /projects/260 HTTP/1.1\" 500 477'\n",
    "\n",
    "pattern = '^(([0-9]{1,3}.){4,4})...+.([0-9]{4,4}).([0-9]{2,2}).([0-9]{2,2})...\\\n",
    "+\\\"GET..[a-z]+.[0-9]+.HTTP/1.1\\\".[0-9]+.[0-9]+'\n",
    "# pattern = '^([0-9]{1,3}.){4,4}\\- \\[([0-9]{4,4})\\-([0-9]{2,2})\\-([0-9]{2,2})\\s\\\n",
    "# ([0-9]{2,2}):([0-9]{2,2}):([0-9]{2,2})\\.([0-9]{2,6})\\] \\\"GET \\/[a-z]+\\/\\d+\\s\\\n",
    "# HTTP\\/\\d\\.\\d\\\"\\s([0-9]{3,3})\\s\\d+'\n",
    "split_pattern = \"HTTP\\/\\d\\.\\d\\\"\"  # re.split()\n",
    "res = re.search(pattern, test_string).group()\n",
    "stat = re.split(split_pattern, res)[-1].split()\n",
    "code_size = {'code': stat[0], 'size': stat[1]}\n",
    "result = re.match(pattern, test_string)\n",
    "if result:\n",
    "    print(res)\n",
    "    print(code_size)\n",
    "else:\n",
    "    print(\"Search unsuccessful.\")\t"
   ]
  },
  {
   "cell_type": "code",
   "execution_count": 13,
   "metadata": {},
   "outputs": [
    {
     "data": {
      "text/plain": [
       "'2.303.6.125 - [2023-05-11 18:38:23.272919] \"GET /projects/260 HTTP/1.1\" 500 477'"
      ]
     },
     "execution_count": 13,
     "metadata": {},
     "output_type": "execute_result"
    }
   ],
   "source": [
    "re.search(pattern, test_string).group()"
   ]
  },
  {
   "cell_type": "code",
   "execution_count": 26,
   "metadata": {},
   "outputs": [
    {
     "name": "stdout",
     "output_type": "stream",
     "text": [
      "Search unsuccessful.\n"
     ]
    }
   ],
   "source": [
    "import re\n",
    "\n",
    "pattern = '^a...\\D$'\n",
    "test_string = 'abyss'\n",
    "result = re.match(pattern, test_string)\n",
    "\n",
    "if result:\n",
    "  print(\"Search successful.\")\n",
    "else:\n",
    "  print(\"Search unsuccessful.\")\t\n"
   ]
  },
  {
   "attachments": {},
   "cell_type": "markdown",
   "metadata": {},
   "source": [
    "# Solution"
   ]
  },
  {
   "cell_type": "code",
   "execution_count": null,
   "metadata": {},
   "outputs": [],
   "source": [
    "#!/usr/bin/python3\n",
    "\"\"\"module docs for 0-stats.py\"\"\"\n",
    "\n",
    "from signal import SIGINT, signal\n",
    "import re\n",
    "import sys\n",
    "\n",
    "PATTERN = '^(([0-9]{1,3}.){4,4})...+.([0-9]{4,4}).([0-9]{2,2}).([0-9]{2,2})...\\\n",
    "+\\\"GET..[a-z]+.[0-9]+.HTTP/1.1\\\".[0-9]+.[0-9]+'\n",
    "\n",
    "status_codes = {\n",
    "    \"200\": 0, \"301\": 0, \"400\": 0, \"401\": 0,\n",
    "    \"403\": 0, \"404\": 0, \"405\": 0, \"500\": 0\n",
    "}\n",
    "\n",
    "\n",
    "def logger(func):\n",
    "    \"\"\"logger decor\"\"\"\n",
    "    def wrapper(*args, **kwargs):\n",
    "        print(f\"File size: {size}\")\n",
    "        for k, v in status_codes.items():\n",
    "            if v != 0:\n",
    "                print(\"{0}: {1}\".format(k, v))\n",
    "        return func(*args, **kwargs)\n",
    "    return wrapper\n",
    "\n",
    "\n",
    "@logger\n",
    "def end(signum, frame):\n",
    "    \"\"\"function to call when ending the program\"\"\"\n",
    "    exit(0)\n",
    "\n",
    "\n",
    "def check_line(lines):\n",
    "    \"\"\"line checker\"\"\"\n",
    "    try:\n",
    "        re.search(PATTERN, lines).group()\n",
    "        return True\n",
    "    except AttributeError:\n",
    "        return False\n",
    "\n",
    "\n",
    "if __name__ == \"__main__\":\n",
    "    signal(SIGINT, end)\n",
    "    count = 0\n",
    "    size = 0\n",
    "    for line in sys.stdin:\n",
    "        # get data and append to a list\n",
    "        # if list == 10, sum and print it\n",
    "        # else keep appending\n",
    "\n",
    "        if check_line(line):\n",
    "            count += 1\n",
    "            stat_code = line.split()[-2]\n",
    "            status_codes[stat_code] += 1\n",
    "            size += int(line.split()[-1])\n",
    "            if count % 10 == 0:\n",
    "                print(f\"File size: {size}\")\n",
    "                for k, v in status_codes.items():\n",
    "                    if v != 0:\n",
    "                        print(\"{0}: {1}\".format(k, v))\n",
    "                # print(f\"{status_codes} {count}\")\n",
    "        else:\n",
    "            pass\n"
   ]
  }
 ],
 "metadata": {
  "kernelspec": {
   "display_name": "Python 3",
   "language": "python",
   "name": "python3"
  },
  "language_info": {
   "codemirror_mode": {
    "name": "ipython",
    "version": 3
   },
   "file_extension": ".py",
   "mimetype": "text/x-python",
   "name": "python",
   "nbconvert_exporter": "python",
   "pygments_lexer": "ipython3",
   "version": "3.11.3"
  },
  "orig_nbformat": 4
 },
 "nbformat": 4,
 "nbformat_minor": 2
}
