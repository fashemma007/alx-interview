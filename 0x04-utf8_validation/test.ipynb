{
 "cells": [
  {
   "cell_type": "code",
   "execution_count": 23,
   "metadata": {},
   "outputs": [
    {
     "name": "stdout",
     "output_type": "stream",
     "text": [
      "[b'80', b'738', b'116', b'104', b'111', b'110', b'32', b'105', b'115', b'32', b'99', b'111', b'111', b'108', b'33']\n"
     ]
    }
   ],
   "source": [
    "s = \"hello\"\n",
    "ass = [str(dat).encode(\"unicode_escape\") for dat in data]\n",
    "\n",
    "try:\n",
    "    print(ass)\n",
    "    # print(ass.decode('utf8'))\n",
    "    b = True\n",
    "except UnicodeError:\n",
    "    b = False"
   ]
  },
  {
   "cell_type": "code",
   "execution_count": 3,
   "metadata": {},
   "outputs": [
    {
     "data": {
      "text/plain": [
       "8"
      ]
     },
     "execution_count": 3,
     "metadata": {},
     "output_type": "execute_result"
    }
   ],
   "source": [
    "from math import ceil, log\n",
    "\n",
    "def n_bits_required(nvalues: int) -> int:\n",
    "    return ceil(log(nvalues) / log(2))\n",
    "\n",
    "n_bits_required(129)"
   ]
  },
  {
   "cell_type": "code",
   "execution_count": 30,
   "metadata": {},
   "outputs": [],
   "source": [
    "checks = [n_bits_required(dat) for dat in data]"
   ]
  },
  {
   "cell_type": "code",
   "execution_count": 31,
   "metadata": {},
   "outputs": [
    {
     "data": {
      "text/plain": [
       "[7, 10, 7, 7, 7, 7, 5, 7, 7, 5, 7, 7, 7, 7, 6]"
      ]
     },
     "execution_count": 31,
     "metadata": {},
     "output_type": "execute_result"
    }
   ],
   "source": [
    "checks"
   ]
  },
  {
   "cell_type": "code",
   "execution_count": 4,
   "metadata": {},
   "outputs": [],
   "source": [
    "from math import ceil, log\n",
    "\n",
    "def n_bits_required(nvalues: int) -> int:\n",
    "    return ceil(log(nvalues) / log(2))\n",
    "\n",
    "def validUTF8(data):\n",
    "    checks = [n_bits_required(dat) for dat in data]\n",
    "    for i in checks:\n",
    "        if i >= 8:\n",
    "            return False\n",
    "    return True"
   ]
  },
  {
   "cell_type": "code",
   "execution_count": 13,
   "metadata": {},
   "outputs": [],
   "source": [
    "def chkbin(data):\n",
    "    for num in data:\n",
    "        print(num,': {0:08b}'.format(num))\n",
    "    print(\"\", end='\\n')"
   ]
  },
  {
   "cell_type": "code",
   "execution_count": 15,
   "metadata": {},
   "outputs": [
    {
     "name": "stdout",
     "output_type": "stream",
     "text": [
      "65 : 01000001\n",
      "\n",
      "80 : 01010000\n",
      "121 : 01111001\n",
      "116 : 01110100\n",
      "104 : 01101000\n",
      "111 : 01101111\n",
      "110 : 01101110\n",
      "32 : 00100000\n",
      "105 : 01101001\n",
      "115 : 01110011\n",
      "32 : 00100000\n",
      "99 : 01100011\n",
      "111 : 01101111\n",
      "111 : 01101111\n",
      "108 : 01101100\n",
      "33 : 00100001\n",
      "\n",
      "229 : 11100101\n",
      "65 : 01000001\n",
      "127 : 01111111\n",
      "256 : 100000000\n",
      "\n",
      "200 : 11001000\n",
      "140 : 10001100\n",
      "\n"
     ]
    }
   ],
   "source": [
    "data = [65]\n",
    "chkbin(data)\n",
    "\n",
    "data = [80, 121, 116, 104, 111, 110, 32, 105, 115, 32, 99, 111, 111, 108, 33]\n",
    "chkbin(data)\n",
    "\n",
    "data = [229, 65, 127, 256]\n",
    "chkbin(data)\n",
    "\n",
    "data = [200,140]\n",
    "chkbin(data)"
   ]
  },
  {
   "cell_type": "code",
   "execution_count": 9,
   "metadata": {},
   "outputs": [
    {
     "name": "stdout",
     "output_type": "stream",
     "text": [
      "True\n",
      "True\n",
      "False\n",
      "True\n",
      "True\n"
     ]
    }
   ],
   "source": [
    "data = [65]\n",
    "print(validUTF8(data))\n",
    "\n",
    "data = [80, 121, 116, 104, 111, 110, 32, 105, 115, 32, 99, 111, 111, 108, 33]\n",
    "print(validUTF8(data))\n",
    "\n",
    "data = [229, 65, 127, 256]\n",
    "print(validUTF8(data))\n",
    "\n",
    "data = [235,140,154]\n",
    "print(validUTF8(data))\n",
    "\n",
    "data = [200,140]\n",
    "print(validUTF8(data))"
   ]
  },
  {
   "cell_type": "code",
   "execution_count": null,
   "metadata": {},
   "outputs": [],
   "source": []
  },
  {
   "cell_type": "code",
   "execution_count": null,
   "metadata": {},
   "outputs": [],
   "source": []
  }
 ],
 "metadata": {
  "kernelspec": {
   "display_name": "Python 3",
   "language": "python",
   "name": "python3"
  },
  "language_info": {
   "codemirror_mode": {
    "name": "ipython",
    "version": 3
   },
   "file_extension": ".py",
   "mimetype": "text/x-python",
   "name": "python",
   "nbconvert_exporter": "python",
   "pygments_lexer": "ipython3",
   "version": "3.11.3"
  },
  "orig_nbformat": 4
 },
 "nbformat": 4,
 "nbformat_minor": 2
}
