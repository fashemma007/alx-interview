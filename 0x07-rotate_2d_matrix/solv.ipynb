{
 "cells": [
  {
   "cell_type": "code",
   "execution_count": 78,
   "metadata": {},
   "outputs": [],
   "source": [
    "def rotate_2d_matrix(matrix):\n",
    "    temp = []  # initialize empty list\n",
    "    for item in matrix:\n",
    "        temps = []  # initialize empty inner list\n",
    "        # print(item)\n",
    "        for item in matrix:  # for each inner list\n",
    "            elem = item.pop(0)  # pop it's first item\n",
    "            temps.insert(0, elem)  # add it to the start of the list\n",
    "            # print(item)\n",
    "            # print(temps)\n",
    "        temp.append(temps)  # append to list to the mother list\n",
    "    matrix.clear()  # reset/ clear the given list\n",
    "    [matrix.append(item) for item in temp]  # add all items back\n",
    "    # print(temp)"
   ]
  },
  {
   "cell_type": "code",
   "execution_count": 79,
   "metadata": {},
   "outputs": [
    {
     "name": "stdout",
     "output_type": "stream",
     "text": [
      "[[7, 4, 1], [8, 5, 2], [9, 6, 3]]\n"
     ]
    }
   ],
   "source": [
    "matrix = [[1, 2, 3],\n",
    "            [4, 5, 6],\n",
    "            [7, 8, 9]]\n",
    "xpect = [[7, 4, 1],\n",
    "[8, 5, 2],\n",
    "[9, 6, 3]]\n",
    "rotate_2d_matrix(matrix)\n",
    "print(matrix)\n",
    "# print(xpect)"
   ]
  },
  {
   "cell_type": "code",
   "execution_count": 38,
   "metadata": {},
   "outputs": [
    {
     "name": "stdout",
     "output_type": "stream",
     "text": [
      "[1, 2, 3]\n",
      "[2, 3]\n",
      "[1]\n",
      "[5, 6]\n",
      "[4, 1]\n",
      "[8, 9]\n",
      "[7, 4, 1]\n",
      "[5, 6]\n",
      "[3]\n",
      "[2]\n",
      "[6]\n",
      "[5, 2]\n",
      "[9]\n",
      "[8, 5, 2]\n",
      "[9]\n",
      "[]\n",
      "[3]\n",
      "[]\n",
      "[6, 3]\n",
      "[]\n",
      "[9, 6, 3]\n",
      "[[7, 4, 1], [8, 5, 2], [9, 6, 3]]\n"
     ]
    }
   ],
   "source": []
  },
  {
   "cell_type": "code",
   "execution_count": null,
   "metadata": {},
   "outputs": [],
   "source": []
  },
  {
   "cell_type": "code",
   "execution_count": null,
   "metadata": {},
   "outputs": [],
   "source": []
  }
 ],
 "metadata": {
  "kernelspec": {
   "display_name": "Python 3",
   "language": "python",
   "name": "python3"
  },
  "language_info": {
   "codemirror_mode": {
    "name": "ipython",
    "version": 3
   },
   "file_extension": ".py",
   "mimetype": "text/x-python",
   "name": "python",
   "nbconvert_exporter": "python",
   "pygments_lexer": "ipython3",
   "version": "3.11.3"
  },
  "orig_nbformat": 4
 },
 "nbformat": 4,
 "nbformat_minor": 2
}
